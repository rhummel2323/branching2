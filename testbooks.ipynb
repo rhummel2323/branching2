{
 "cells": [
  {
   "cell_type": "markdown",
   "id": "de021fcc-07fa-4f34-819d-16d44756467d",
   "metadata": {},
   "source": [
    "TESTING\n",
    "HELLO WORLD"
   ]
  },
  {
   "cell_type": "code",
   "execution_count": null,
   "id": "92cefc59-f5b9-4586-86bd-82af836c943b",
   "metadata": {},
   "outputs": [],
   "source": []
  }
 ],
 "metadata": {
  "kernelspec": {
   "display_name": "d2l:Python",
   "language": "python",
   "name": "conda-env-d2l-py"
  },
  "language_info": {
   "codemirror_mode": {
    "name": "ipython",
    "version": 3
   },
   "file_extension": ".py",
   "mimetype": "text/x-python",
   "name": "python",
   "nbconvert_exporter": "python",
   "pygments_lexer": "ipython3",
   "version": "3.9.13"
  }
 },
 "nbformat": 4,
 "nbformat_minor": 5
}
